{
 "cells": [
  {
   "cell_type": "code",
   "execution_count": null,
   "id": "0",
   "metadata": {},
   "outputs": [],
   "source": [
    "import pandas as pd\n",
    "import numpy as np"
   ]
  },
  {
   "cell_type": "code",
   "execution_count": null,
   "id": "1",
   "metadata": {},
   "outputs": [],
   "source": [
    "import time\n",
    "\n",
    "\n",
    "test_start_time = time.time()\n",
    "time.sleep(3)\n",
    "test_end_time = time.time()\n",
    "\n",
    "x = test_end_time - float(str(test_start_time))\n",
    "\n",
    "print(x)"
   ]
  },
  {
   "cell_type": "code",
   "execution_count": null,
   "id": "2",
   "metadata": {},
   "outputs": [],
   "source": [
    "# Load the .npy file\n",
    "wadi_train = np.load(\"../dataset/anomaly_detection/WADI/WADI_train.npy\")\n",
    "wadi_test = np.load(\"../dataset/anomaly_detection/WADI/WADI_test.npy\")\n",
    "wadi_label = np.load(\"../dataset/anomaly_detection/WADI/WADI_test_label.npy\")\n",
    "\n",
    "smap_train = np.load(\"../dataset/anomaly_detection/SMAP/SMAP_train.npy\")\n",
    "smap_test = np.load(\"../dataset/anomaly_detection/SMAP/SMAP_test.npy\")\n",
    "smap_label = np.load(\"../dataset/anomaly_detection/SMAP/SMAP_test_label.npy\")\n",
    "\n",
    "# Convert the numpy array to a pandas DataFrame\n",
    "df_wadi_train = pd.DataFrame(wadi_train)\n",
    "df_wadi_test = pd.DataFrame(wadi_test)\n",
    "df_wadi_label = pd.DataFrame(wadi_label)\n",
    "\n",
    "df_smap_train = pd.DataFrame(smap_train)\n",
    "df_smap_test = pd.DataFrame(smap_test)\n",
    "df_smap_label = pd.DataFrame(smap_label)"
   ]
  },
  {
   "cell_type": "code",
   "execution_count": null,
   "id": "3",
   "metadata": {},
   "outputs": [],
   "source": [
    "df_wadi_test.describe()"
   ]
  },
  {
   "cell_type": "code",
   "execution_count": null,
   "id": "4",
   "metadata": {},
   "outputs": [],
   "source": [
    "df_smap_test.describe()"
   ]
  },
  {
   "cell_type": "code",
   "execution_count": null,
   "id": "5",
   "metadata": {},
   "outputs": [],
   "source": [
    "# Load the .npy file\n",
    "wadi_train_np = np.load(\n",
    "    \"../dataset/anomaly_detection/WADI/no_preprocessing/wadi_normal_no_preprocessing.npy\"\n",
    ")\n",
    "wadi_test_np = np.load(\n",
    "    \"../dataset/anomaly_detection/WADI/no_preprocessing/wadi_attack_no_preprocessing.npy\"\n",
    ")\n",
    "wadi_label_np = np.load(\n",
    "    \"../dataset/anomaly_detection/WADI/no_preprocessing/labels_no_preprocessing.npy\"\n",
    ")\n",
    "\n",
    "# Convert the numpy array to a pandas DataFrame\n",
    "df_wadi_train_np = pd.DataFrame(wadi_train_np)\n",
    "df_wadi_test_np = pd.DataFrame(wadi_test_np)\n",
    "df_wadi_label_np = pd.DataFrame(wadi_label_np)"
   ]
  },
  {
   "cell_type": "code",
   "execution_count": null,
   "id": "6",
   "metadata": {},
   "outputs": [],
   "source": [
    "df_wadi_test_np.describe()"
   ]
  },
  {
   "cell_type": "code",
   "execution_count": null,
   "id": "7",
   "metadata": {},
   "outputs": [],
   "source": [
    "import torch\n",
    "import torch.nn as nn\n",
    "\n",
    "embed = nn.Embedding"
   ]
  },
  {
   "cell_type": "code",
   "execution_count": null,
   "id": "8",
   "metadata": {},
   "outputs": [],
   "source": [
    "hour_embed = embed(10, 5)\n",
    "input = torch.LongTensor([[1, 2, 4, 5], [4, 3, 2, 9]])\n",
    "print(hour_embed(input))"
   ]
  },
  {
   "cell_type": "code",
   "execution_count": null,
   "id": "9",
   "metadata": {},
   "outputs": [],
   "source": [
    "import numpy as np\n",
    "import pandas as pd\n",
    "\n",
    "arr = np.linspace(0, 1000, num=449919)\n",
    "\n",
    "threshold = np.percentile(arr, 100 - 12)\n",
    "print((threshold))\n",
    "\n",
    "pred = (arr > threshold).astype(int)\n",
    "\n",
    "print(pred.shape)\n",
    "\n",
    "count = np.count_nonzero(pred == 1)\n",
    "print(count)"
   ]
  },
  {
   "cell_type": "code",
   "execution_count": null,
   "id": "10",
   "metadata": {},
   "outputs": [],
   "source": [
    "def adjustment(gt, pred):\n",
    "    anomaly_state = False\n",
    "    for i in range(len(gt)):\n",
    "        if gt[i] == 1 and pred[i] == 1 and not anomaly_state:\n",
    "            anomaly_state = True\n",
    "            # Backward adjustment\n",
    "            for j in range(i, 0, -1):\n",
    "                if gt[j] == 0:\n",
    "                    break\n",
    "                else:\n",
    "                    if pred[j] == 0:\n",
    "                        pred[j] = 1\n",
    "            # Forward adjustment\n",
    "            for j in range(i, len(gt)):\n",
    "                if gt[j] == 0:\n",
    "                    break\n",
    "                else:\n",
    "                    if pred[j] == 0:\n",
    "                        pred[j] = 1\n",
    "        elif gt[i] == 0:\n",
    "            anomaly_state = False\n",
    "        if anomaly_state:\n",
    "            pred[i] = 1\n",
    "    return gt, pred\n",
    "\n",
    "\n",
    "# Example usage\n",
    "gt = [0, 1, 1, 1, 1, 1, 0, 0, 1, 1, 0]\n",
    "pred = [0, 1, 0, 1, 0, 1, 0, 0, 0, 1, 0]\n",
    "\n",
    "adjusted_gt, adjusted_pred = adjustment(gt, pred)\n",
    "\n",
    "print(\"Adjusted Ground Truth: \", adjusted_gt)\n",
    "print(\"Adjusted Predictions:  \", adjusted_pred)"
   ]
  }
 ],
 "metadata": {
  "kernelspec": {
   "display_name": "Python 3 (ipykernel)",
   "language": "python",
   "name": "python3"
  },
  "language_info": {
   "codemirror_mode": {
    "name": "ipython",
    "version": 3
   },
   "file_extension": ".py",
   "mimetype": "text/x-python",
   "name": "python",
   "nbconvert_exporter": "python",
   "pygments_lexer": "ipython3",
   "version": "3.8.13"
  }
 },
 "nbformat": 4,
 "nbformat_minor": 5
}
